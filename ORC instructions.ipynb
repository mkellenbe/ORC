{
 "cells": [
  {
   "cell_type": "markdown",
   "metadata": {},
   "source": [
    "# The functionality of ORC is presented in this notebook"
   ]
  },
  {
   "cell_type": "markdown",
   "metadata": {},
   "source": [
    "First the wind turbine and farm details have to be initialized, here the example reference wind farm is used"
   ]
  },
  {
   "cell_type": "markdown",
   "metadata": {},
   "source": [
    "But any other values for the wind turbine can be used here. Rated power has to be input in kilowatt (*kW*), rotor diameter and hub height in meters (*m*) !!"
   ]
  },
  {
   "cell_type": "code",
   "execution_count": 1,
   "metadata": {},
   "outputs": [],
   "source": [
    "# The used wind turbine and farm is imported\n",
    "from py_wake.examples.data.iea37._iea37 import IEA37_WindTurbines, IEA37Site\n",
    "\n",
    "ws = IEA37Site().default_ws\n",
    "n_t = 16\n",
    "power_rated = int(IEA37_WindTurbines().power(ws)) / 1000\n",
    "rotor_diameter = int(IEA37_WindTurbines().diameter())\n",
    "hub_height = int(IEA37_WindTurbines().hub_height())\n"
   ]
  },
  {
   "cell_type": "markdown",
   "metadata": {},
   "source": [
    "The country in which the wind turbine is to be built needs to be specified, here the example country is France"
   ]
  },
  {
   "cell_type": "code",
   "execution_count": 2,
   "metadata": {},
   "outputs": [],
   "source": [
    "country = 'FRA'"
   ]
  },
  {
   "cell_type": "markdown",
   "metadata": {},
   "source": [
    "# Cost component estimation"
   ]
  },
  {
   "cell_type": "markdown",
   "metadata": {},
   "source": [
    "CAPEX estimation using the reference wind farm"
   ]
  },
  {
   "cell_type": "code",
   "execution_count": 6,
   "metadata": {},
   "outputs": [
    {
     "name": "stderr",
     "output_type": "stream",
     "text": [
      "c:\\Users\\maxik\\Desktop\\ETH\\Bachelorarbeit\\Code\\LCOE_model\\CapEx.py:87: DtypeWarning: Columns (55) have mixed types. Specify dtype option on import or set low_memory=False.\n",
      "  df_original = pd.read_csv(\"databases\\oww3.csv\")\n"
     ]
    },
    {
     "name": "stdout",
     "output_type": "stream",
     "text": [
      "5963850.7115573995\n"
     ]
    }
   ],
   "source": [
    "# Import the Python class for CAPEX estimation\n",
    "from CapEx import CAPEX\n",
    "\n",
    "# Initialize the turbine\n",
    "TurbineCAPEX = CAPEX(rotor_diameter, power_rated, hub_height, country)\n",
    "\n",
    "# Based on the choice of the user either the original or the LCOE-adjusted cost model is used\n",
    "version = 'original'\n",
    "\n",
    "if version == 'original':\n",
    "    CAPEXcost = CAPEX.getCAPEX(TurbineCAPEX)\n",
    "else:\n",
    "    CAPEXcost = CAPEX.getCAPEXadjusted(TurbineCAPEX)\n",
    "\n",
    "# The CAPEX \n",
    "print(CAPEXcost)"
   ]
  },
  {
   "cell_type": "markdown",
   "metadata": {},
   "source": [
    "OPEX estimation using the reference wind turbine"
   ]
  },
  {
   "cell_type": "code",
   "execution_count": 3,
   "metadata": {},
   "outputs": [
    {
     "name": "stdout",
     "output_type": "stream",
     "text": [
      "288764\n"
     ]
    }
   ],
   "source": [
    "# Import the Python class for OPEX estimation\n",
    "# Also import the Python classes that estimate the discount rate and AEP\n",
    "from OpEx import OPEX\n",
    "from DiscountRate import discountRate\n",
    "from AEP_estimation import AEP\n",
    "\n",
    "# Estimate the discount rate\n",
    "d = discountRate.InfAdjRate(country)\n",
    "\n",
    "# Estimate the AEP for the reference wind turbine\n",
    "# (CHANGE ACCORDING TO THE PROJECT SPECIFIC-VALUE)\n",
    "AEPvalue = AEP.AEP_sim()\n",
    "\n",
    "# Initialize the turbine\n",
    "TurbineOPEX = OPEX(rotor_diameter, power_rated, hub_height, d, AEPvalue, country)\n",
    "\n",
    "# Based on the choice of the user either the original or the LCOE-adjusted cost model is used\n",
    "version = 'original'\n",
    "\n",
    "if version == 'original':\n",
    "    OPEXcost = OPEX.getOPEX(TurbineOPEX)\n",
    "else:\n",
    "    OPEXcost = OPEX.getOPEXadjusted(TurbineOPEX)\n",
    "\n",
    "# The annual OPEX\n",
    "print(OPEXcost)\n"
   ]
  },
  {
   "cell_type": "markdown",
   "metadata": {},
   "source": [
    "Decommissioning cost estimation using the reference wind turbine"
   ]
  },
  {
   "cell_type": "code",
   "execution_count": 4,
   "metadata": {},
   "outputs": [
    {
     "name": "stdout",
     "output_type": "stream",
     "text": [
      "-183488.0614\n"
     ]
    }
   ],
   "source": [
    "# Import the Python class for decommissioning cost estimation\n",
    "from Decommissioning import EOL\n",
    "\n",
    "# Initialize the turbine\n",
    "TurbineDEC = EOL(rotor_diameter, power_rated, hub_height, country, n_t)\n",
    "\n",
    "# The decommissioning cost estimation is the same for both model versions\n",
    "DECcost = EOL.decommissioningCost(TurbineDEC)\n",
    "\n",
    "# The decommissioning cost\n",
    "print(DECcost)"
   ]
  },
  {
   "cell_type": "markdown",
   "metadata": {},
   "source": [
    "The LCOE gets calculated here using the above described cost, but there is also an overall LCOE estimation method without these steps, as this is supposed to show how it is computed and each cost component."
   ]
  },
  {
   "cell_type": "code",
   "execution_count": 8,
   "metadata": {},
   "outputs": [
    {
     "name": "stdout",
     "output_type": "stream",
     "text": [
      "32.443403805689854 $/MWh\n"
     ]
    }
   ],
   "source": [
    "# Math module gets imported\n",
    "import math\n",
    "\n",
    "# Here the final LCOE calculation gets initialized\n",
    "lifetime = 20\n",
    "discountedEnergy = 0\n",
    "discountedCost = 0\n",
    "x = 0\n",
    "# The discountedCost and discountedEnergy get calculated\n",
    "while x <= lifetime:\n",
    "    if x == 0:\n",
    "        # CAPEXcost is added to LCOE equation before the start of operation \n",
    "        discountedCost += CAPEXcost\n",
    "        x = x + 1\n",
    "    elif x == 20:\n",
    "        # OPEX costs get discounted and added to the LCOE equation\n",
    "        discountedCost += (OPEXcost + DECcost) * 1 / (math.pow((1+d) , x))\n",
    "        # Same happens to the energy produced annually\n",
    "        discountedEnergy += (AEPvalue) * (1 / (math.pow((1+d) , x)))\n",
    "        x = x + 1\n",
    "    else:\n",
    "        # OPEX costs get discounted and added to the LCOE equation\n",
    "        discountedCost += OPEXcost * 1 / (math.pow((1+d) , x)) \n",
    "        # Same happens to the energy produced annually\n",
    "        discountedEnergy += (AEPvalue) * (1 / (math.pow((1+d) , x)))\n",
    "        x = x + 1\n",
    "\n",
    "LCOEvalue = (discountedCost/discountedEnergy) * 1000\n",
    "print(str(LCOEvalue) + \" $/MWh\")"
   ]
  },
  {
   "cell_type": "markdown",
   "metadata": {},
   "source": [
    "# LCOE functionality"
   ]
  },
  {
   "cell_type": "markdown",
   "metadata": {},
   "source": [
    "In this section the LCOE functionality is shown in one step without the previously described cost stages"
   ]
  },
  {
   "cell_type": "code",
   "execution_count": 1,
   "metadata": {},
   "outputs": [
    {
     "name": "stderr",
     "output_type": "stream",
     "text": [
      "c:\\Users\\maxik\\Desktop\\ETH\\Bachelorarbeit\\Code\\LCOE_model\\CapEx.py:87: DtypeWarning: Columns (55) have mixed types. Specify dtype option on import or set low_memory=False.\n",
      "  df_original = pd.read_csv(\"databases\\oww3.csv\")\n"
     ]
    },
    {
     "name": "stdout",
     "output_type": "stream",
     "text": [
      "34.054134804249905\n"
     ]
    }
   ],
   "source": [
    "# Again the reference wind turbine is initialized\n",
    "# The used wind turbine and farm is imported\n",
    "from py_wake.examples.data.iea37._iea37 import IEA37_WindTurbines, IEA37Site\n",
    "from LCOE_final import LCOE\n",
    "\n",
    "ws = IEA37Site().default_ws\n",
    "n_t = 16\n",
    "power_rated = int(IEA37_WindTurbines().power(ws)) / 1000\n",
    "rotor_diameter = int(IEA37_WindTurbines().diameter())\n",
    "hub_height = int(IEA37_WindTurbines().hub_height())\n",
    "country = 'CZE'\n",
    "version = 'original'\n",
    "\n",
    "Turbine = LCOE(rotor_diameter, power_rated, hub_height, country, n_t, version)\n",
    "\n",
    "LCOEvalue = LCOE.getLCOE(Turbine)\n",
    "\n",
    "# LCOE value\n",
    "print(LCOEvalue)"
   ]
  }
 ],
 "metadata": {
  "kernelspec": {
   "display_name": "topfarm",
   "language": "python",
   "name": "python3"
  },
  "language_info": {
   "codemirror_mode": {
    "name": "ipython",
    "version": 3
   },
   "file_extension": ".py",
   "mimetype": "text/x-python",
   "name": "python",
   "nbconvert_exporter": "python",
   "pygments_lexer": "ipython3",
   "version": "3.8.18"
  }
 },
 "nbformat": 4,
 "nbformat_minor": 2
}
